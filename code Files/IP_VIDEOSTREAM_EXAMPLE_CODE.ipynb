{
 "cells": [
  {
   "cell_type": "code",
   "execution_count": 1,
   "id": "925fe4c0",
   "metadata": {},
   "outputs": [
    {
     "name": "stdout",
     "output_type": "stream",
     "text": [
      "WARNING:tensorflow:From C:\\Users\\praween\\anaconda3\\Lib\\site-packages\\keras\\src\\losses.py:2976: The name tf.losses.sparse_softmax_cross_entropy is deprecated. Please use tf.compat.v1.losses.sparse_softmax_cross_entropy instead.\n",
      "\n",
      "Error: Unable to open video stream.\n"
     ]
    }
   ],
   "source": [
    "import cv2\n",
    "from deepface import DeepFace\n",
    "\n",
    "def main():\n",
    "    \n",
    "    # Open the video stream\n",
    "    cap = cv2.VideoCapture('http://192.168.29.51/stream')\n",
    "    \n",
    "    # Check if the video stream is opened successfully\n",
    "    if not cap.isOpened():\n",
    "        print(\"Error: Unable to open video stream.\")\n",
    "        return\n",
    "    \n",
    "    # Loop to capture frames from the video stream\n",
    "    while True:\n",
    "        # Capture frame-by-frame\n",
    "        ret, frame = cap.read()\n",
    "        \n",
    "        # If frame is read correctly, ret is True\n",
    "        if ret:\n",
    "            # Extract faces from the frame\n",
    "            faces = DeepFace.extract_faces(frame)\n",
    "            \n",
    "            # Print the structure of the faces variable for debugging\n",
    "            print(\"Faces:\", faces)\n",
    "            \n",
    "            # Draw rectangles around detected faces\n",
    "            for face in faces:\n",
    "                # Access the bounding box coordinates if available\n",
    "                if 'region' in face:\n",
    "                    (x, y, w, h) = (face['region']['x'], face['region']['y'], face['region']['w'], face['region']['h'])\n",
    "                    cv2.rectangle(frame, (x, y), (x+w, y+h), (255, 0, 0), 2)\n",
    "            \n",
    "            # Display the frame with rectangles around the faces\n",
    "            cv2.imshow('Face Detection', frame)\n",
    "        \n",
    "        # Check if the user pressed the 'q' key to exit\n",
    "        if cv2.waitKey(1) & 0xFF == ord('q'):\n",
    "            break\n",
    "    \n",
    "    # Release the video stream and close all windows\n",
    "    cap.release()\n",
    "    cv2.destroyAllWindows()\n",
    "\n",
    "if __name__ == \"__main__\":\n",
    "    main()\n"
   ]
  },
  {
   "cell_type": "code",
   "execution_count": null,
   "id": "814f4ff7",
   "metadata": {},
   "outputs": [],
   "source": []
  }
 ],
 "metadata": {
  "kernelspec": {
   "display_name": "Python 3 (ipykernel)",
   "language": "python",
   "name": "python3"
  },
  "language_info": {
   "codemirror_mode": {
    "name": "ipython",
    "version": 3
   },
   "file_extension": ".py",
   "mimetype": "text/x-python",
   "name": "python",
   "nbconvert_exporter": "python",
   "pygments_lexer": "ipython3",
   "version": "3.11.5"
  }
 },
 "nbformat": 4,
 "nbformat_minor": 5
}
